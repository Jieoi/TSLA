{
 "cells": [
  {
   "cell_type": "code",
   "execution_count": 1,
   "id": "13db59d7-c7fe-49de-90e9-6d2c50dc5d27",
   "metadata": {},
   "outputs": [],
   "source": [
    "# @Khoi and Bryan, always import the custom libray before hand for standarisation\n",
    "import data_cleaning"
   ]
  },
  {
   "cell_type": "code",
   "execution_count": 2,
   "id": "431891f8-1e4d-417e-a2a1-22a07cb04ded",
   "metadata": {},
   "outputs": [
    {
     "name": "stdout",
     "output_type": "stream",
     "text": [
      "Library imported\n"
     ]
    }
   ],
   "source": [
    "# test that the library is working\n",
    "data_cleaning.test_()"
   ]
  },
  {
   "cell_type": "code",
   "execution_count": null,
   "id": "931dcecf-f686-4cdf-b5e2-ea7083bc7447",
   "metadata": {},
   "outputs": [],
   "source": []
  }
 ],
 "metadata": {
  "kernelspec": {
   "display_name": "Python (conda_base)",
   "language": "python",
   "name": "base"
  },
  "language_info": {
   "codemirror_mode": {
    "name": "ipython",
    "version": 3
   },
   "file_extension": ".py",
   "mimetype": "text/x-python",
   "name": "python",
   "nbconvert_exporter": "python",
   "pygments_lexer": "ipython3",
   "version": "3.12.7"
  }
 },
 "nbformat": 4,
 "nbformat_minor": 5
}
