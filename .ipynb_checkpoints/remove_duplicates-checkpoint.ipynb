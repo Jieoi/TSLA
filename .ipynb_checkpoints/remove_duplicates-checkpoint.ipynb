{
 "cells": [
  {
   "cell_type": "code",
   "execution_count": 19,
   "id": "47153fa9",
   "metadata": {},
   "outputs": [
    {
     "name": "stdout",
     "output_type": "stream",
     "text": [
      "Number of rows: 5941\n"
     ]
    }
   ],
   "source": [
    "import pandas as pd\n",
    "\n",
    "df = pd.read_csv(\"nbc_articles_links.csv\")\n",
    "print(\"Number of rows:\", len(df))\n"
   ]
  },
  {
   "cell_type": "code",
   "execution_count": 44,
   "id": "7ed438f1",
   "metadata": {},
   "outputs": [
    {
     "name": "stdout",
     "output_type": "stream",
     "text": [
      "Number of rows: 5938\n"
     ]
    }
   ],
   "source": [
    "df = pd.read_csv(\"nbc_articles_with_content.csv\")\n",
    "print(\"Number of rows:\", len(df))"
   ]
  },
  {
   "cell_type": "code",
   "execution_count": 45,
   "id": "a0ee8741",
   "metadata": {},
   "outputs": [
    {
     "data": {
      "text/plain": [
       "24"
      ]
     },
     "execution_count": 45,
     "metadata": {},
     "output_type": "execute_result"
    }
   ],
   "source": [
    "import pandas as pd\n",
    "\n",
    "# Find duplicated rows based on 'title'\n",
    "dup_titles = df[df[\"title\"].duplicated(keep=False)]\n",
    "\n",
    "# Keep only the title column\n",
    "dup_titles = dup_titles[[\"title\"]]\n",
    "\n",
    "len(dup_titles)\n"
   ]
  },
  {
   "cell_type": "code",
   "execution_count": 46,
   "id": "ff42b481",
   "metadata": {},
   "outputs": [
    {
     "name": "stdout",
     "output_type": "stream",
     "text": [
      "Unique duplicated titles: 11\n"
     ]
    }
   ],
   "source": [
    "print(\"Unique duplicated titles:\", dup_rows['title'].nunique())  "
   ]
  },
  {
   "cell_type": "code",
   "execution_count": 48,
   "id": "3e33c8c2",
   "metadata": {},
   "outputs": [
    {
     "name": "stdout",
     "output_type": "stream",
     "text": [
      "After dropping duplicates: 5925\n"
     ]
    }
   ],
   "source": [
    "df = df.drop_duplicates(subset=[\"title\"], keep=\"first\")\n",
    "print(\"After dropping duplicates:\", len(df))\n",
    "df.to_csv(\"nbc_articles_with_content_official.csv\", index=False)"
   ]
  },
  {
   "cell_type": "code",
   "execution_count": null,
   "id": "de7e0a31",
   "metadata": {},
   "outputs": [],
   "source": []
  }
 ],
 "metadata": {
  "kernelspec": {
   "display_name": "Python 3",
   "language": "python",
   "name": "python3"
  },
  "language_info": {
   "codemirror_mode": {
    "name": "ipython",
    "version": 3
   },
   "file_extension": ".py",
   "mimetype": "text/x-python",
   "name": "python",
   "nbconvert_exporter": "python",
   "pygments_lexer": "ipython3",
   "version": "3.13.7"
  }
 },
 "nbformat": 4,
 "nbformat_minor": 5
}
